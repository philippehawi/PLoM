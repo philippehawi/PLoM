{
 "cells": [
  {
   "cell_type": "code",
   "execution_count": 1,
   "metadata": {},
   "outputs": [],
   "source": [
    "import plom\n",
    "import numpy as np"
   ]
  },
  {
   "cell_type": "code",
   "execution_count": 20,
   "metadata": {},
   "outputs": [],
   "source": [
    "np.random.seed(24)\n",
    "n_x = 20\n",
    "N_model = 150\n",
    "N_test = 20\n",
    "\n",
    "X = np.random.rand(n_x, N_model + N_test)\n",
    "y = (X[0] * 40 + 100) + (X[1] + 5) + (X[2] * 0.01)\n",
    "\n",
    "data = np.vstack((X, y)).T\n",
    "\n",
    "data_model = data[:N_model]\n",
    "data_test = data[-N_test:]\n",
    "\n",
    "cond_cols = range(n_x)\n",
    "qoi_col = n_x"
   ]
  },
  {
   "cell_type": "code",
   "execution_count": 31,
   "metadata": {},
   "outputs": [
    {
     "name": "stderr",
     "output_type": "stream",
     "text": [
      "c:\\ProgramData\\anaconda3\\Lib\\site-packages\\scipy\\optimize\\_differentialevolution.py:387: UserWarning: differential_evolution: the 'workers' keyword has overridden updating='immediate' to updating='deferred'\n",
      "  with DifferentialEvolutionSolver(func, bounds, args=args,\n"
     ]
    }
   ],
   "source": [
    "bw_opt, mse_opt = plom.conditioning_optimal_bw(data_model, cond_cols, qoi_col, opt_seed=None, ga_bounds=(1e-09, 1e2), ga_workers=-1, polish=True, return_mse=True)\n",
    "bw_silverman, mse_silverman = plom.conditioning_silverman_bw(data_model, cond_cols, qoi_col, return_mse=True)"
   ]
  },
  {
   "cell_type": "code",
   "execution_count": 32,
   "metadata": {},
   "outputs": [
    {
     "name": "stdout",
     "output_type": "stream",
     "text": [
      "Optimal bandwidth: [3.96919913e-02 7.50336551e-01 4.77022039e+01 9.32561032e+01\n",
      " 3.97001718e+01 9.50140507e+01 5.19935410e+01 1.39971329e+00\n",
      " 1.81524813e+00 3.17903589e+01 4.87824203e+01 1.73927576e+00\n",
      " 6.42359496e+01 1.20466430e+00 1.38194264e+00 2.59134240e+00\n",
      " 9.52637488e+01 1.17579743e+01 6.74822572e+01 7.80390791e+01]\n",
      "Optimal MSE = 0.002241\n",
      "\n",
      "Silverman bandwidth: 0.7630792353626313\n",
      "Silverman MSE = 67.082717\n",
      "\n"
     ]
    }
   ],
   "source": [
    "print(f\"Optimal bandwidth: {bw_opt}\")\n",
    "print(f\"Optimal MSE = {round(mse_opt, 6)}\\n\")\n",
    "print(f\"Silverman bandwidth: {bw_silverman}\")\n",
    "print(f\"Silverman MSE = {round(mse_silverman, 6)}\\n\")"
   ]
  },
  {
   "cell_type": "code",
   "execution_count": 33,
   "metadata": {},
   "outputs": [],
   "source": [
    "x_test = data_test[:, cond_cols]\n",
    "y_true = data_test[:, qoi_col]\n",
    "y_pred_silverman = plom.forward_model(x_test, data_model, qoi_col, h=bw_silverman)\n",
    "y_pred_opt = plom.forward_model(x_test, data_model, qoi_col, h=bw_opt)"
   ]
  },
  {
   "cell_type": "code",
   "execution_count": 34,
   "metadata": {},
   "outputs": [
    {
     "name": "stdout",
     "output_type": "stream",
     "text": [
      "y_true             = 135.953\n",
      "y_pred (optimal)   = 136.088 (0.099%)\n",
      "y_pred (silverman) = 133.647 (1.696%)\n",
      "\n",
      "y_true             = 139.133\n",
      "y_pred (optimal)   = 138.896 (0.17%)\n",
      "y_pred (silverman) = 135.066 (2.924%)\n",
      "\n",
      "y_true             = 107.033\n",
      "y_pred (optimal)   = 107.268 (0.219%)\n",
      "y_pred (silverman) = 123.331 (15.227%)\n",
      "\n",
      "y_true             = 125.652\n",
      "y_pred (optimal)   = 125.616 (0.029%)\n",
      "y_pred (silverman) = 127.375 (1.371%)\n",
      "\n",
      "y_true             = 128.897\n",
      "y_pred (optimal)   = 128.615 (0.219%)\n",
      "y_pred (silverman) = 126.748 (1.667%)\n",
      "\n",
      "y_true             = 108.381\n",
      "y_pred (optimal)   = 108.276 (0.097%)\n",
      "y_pred (silverman) = 116.076 (7.099%)\n",
      "\n",
      "y_true             = 106.409\n",
      "y_pred (optimal)   = 106.78 (0.349%)\n",
      "y_pred (silverman) = 117.99 (10.884%)\n",
      "\n",
      "y_true             = 128.718\n",
      "y_pred (optimal)   = 128.731 (0.01%)\n",
      "y_pred (silverman) = 118.126 (8.229%)\n",
      "\n",
      "y_true             = 135.128\n",
      "y_pred (optimal)   = 135.285 (0.116%)\n",
      "y_pred (silverman) = 121.575 (10.03%)\n",
      "\n",
      "y_true             = 105.508\n",
      "y_pred (optimal)   = 105.934 (0.404%)\n",
      "y_pred (silverman) = 109.756 (4.027%)\n",
      "\n",
      "y_true             = 144.999\n",
      "y_pred (optimal)   = 144.934 (0.045%)\n",
      "y_pred (silverman) = 140.657 (2.995%)\n",
      "\n",
      "y_true             = 106.851\n",
      "y_pred (optimal)   = 107.221 (0.346%)\n",
      "y_pred (silverman) = 125.406 (17.365%)\n",
      "\n",
      "y_true             = 128.294\n",
      "y_pred (optimal)   = 128.103 (0.149%)\n",
      "y_pred (silverman) = 134.044 (4.481%)\n",
      "\n",
      "y_true             = 109.445\n",
      "y_pred (optimal)   = 109.417 (0.025%)\n",
      "y_pred (silverman) = 127.492 (16.489%)\n",
      "\n",
      "y_true             = 119.187\n",
      "y_pred (optimal)   = 119.704 (0.434%)\n",
      "y_pred (silverman) = 129.228 (8.424%)\n",
      "\n",
      "y_true             = 121.459\n",
      "y_pred (optimal)   = 121.665 (0.169%)\n",
      "y_pred (silverman) = 121.58 (0.099%)\n",
      "\n",
      "y_true             = 120.571\n",
      "y_pred (optimal)   = 120.918 (0.288%)\n",
      "y_pred (silverman) = 138.11 (14.546%)\n",
      "\n",
      "y_true             = 121.504\n",
      "y_pred (optimal)   = 121.629 (0.103%)\n",
      "y_pred (silverman) = 136.077 (11.994%)\n",
      "\n",
      "y_true             = 142.482\n",
      "y_pred (optimal)   = 142.506 (0.017%)\n",
      "y_pred (silverman) = 130.981 (8.072%)\n",
      "\n",
      "y_true             = 142.962\n",
      "y_pred (optimal)   = 142.731 (0.162%)\n",
      "y_pred (silverman) = 133.568 (6.571%)\n",
      "\n"
     ]
    }
   ],
   "source": [
    "for test_case in range(N_test):\n",
    "    print(f\"y_true             = {round(y_true[test_case], 3)}\")\n",
    "    print(f\"y_pred (optimal)   = {round(y_pred_opt[test_case], 3)} ({round(np.abs(y_pred_opt[test_case] - y_true[test_case])/y_true[test_case]*100, 3)}%)\")\n",
    "    print(f\"y_pred (silverman) = {round(y_pred_silverman[test_case], 3)} ({round(np.abs(y_pred_silverman[test_case] - y_true[test_case])/y_true[test_case]*100, 3)}%)\\n\")"
   ]
  },
  {
   "cell_type": "code",
   "execution_count": null,
   "metadata": {},
   "outputs": [],
   "source": []
  }
 ],
 "metadata": {
  "kernelspec": {
   "display_name": "base",
   "language": "python",
   "name": "python3"
  },
  "language_info": {
   "codemirror_mode": {
    "name": "ipython",
    "version": 3
   },
   "file_extension": ".py",
   "mimetype": "text/x-python",
   "name": "python",
   "nbconvert_exporter": "python",
   "pygments_lexer": "ipython3",
   "version": "3.11.5"
  }
 },
 "nbformat": 4,
 "nbformat_minor": 2
}
