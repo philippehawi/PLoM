{
 "cells": [
  {
   "cell_type": "code",
   "execution_count": null,
   "metadata": {},
   "outputs": [],
   "source": [
    "import plom\n",
    "import numpy as np"
   ]
  },
  {
   "cell_type": "markdown",
   "metadata": {},
   "source": [
    "## Data"
   ]
  },
  {
   "cell_type": "code",
   "execution_count": null,
   "metadata": {},
   "outputs": [],
   "source": [
    "np.random.seed(24)\n",
    "n_x = 5\n",
    "N_model = 200\n",
    "N_test = 20\n",
    "\n",
    "X = np.random.rand(n_x, N_model + N_test)\n",
    "y = (X[0] * 40 + 100) + (X[1] + 5) + (X[2] * 0.01)\n",
    "\n",
    "data = np.vstack((X, y)).T\n",
    "\n",
    "data_model = data[:N_model]\n",
    "data_test = data[-N_test:]\n",
    "\n",
    "cond_cols = range(n_x)\n",
    "qoi_col = n_x"
   ]
  },
  {
   "cell_type": "markdown",
   "metadata": {},
   "source": [
    "## Bandwidth joint optimization"
   ]
  },
  {
   "cell_type": "code",
   "execution_count": null,
   "metadata": {},
   "outputs": [],
   "source": [
    "np.random.seed()\n",
    "bw_opt, mse_opt = plom.conditioning_jointly_optimal_bw(data_model, cond_cols, qoi_col, ga_workers=1, return_mse=True, logscale=True, verbose=True)\n",
    "bw_silverman, mse_silverman = plom.conditioning_silverman_bw(data_model, cond_cols, qoi_col, return_mse=True)"
   ]
  },
  {
   "cell_type": "code",
   "execution_count": null,
   "metadata": {},
   "outputs": [],
   "source": [
    "print(f\"Optimal bandwidth: {bw_opt}\")\n",
    "print(f\"Optimal MSE: {mse_opt}\\n\")\n",
    "print(f\"Silverman bandwidth: {bw_silverman}\\n\")\n",
    "print(f\"Silverman MSE: {mse_silverman}\\n\")"
   ]
  },
  {
   "cell_type": "code",
   "execution_count": null,
   "metadata": {},
   "outputs": [],
   "source": [
    "x_test = data_test[:, cond_cols]\n",
    "y_true = data_test[:, qoi_col]\n",
    "y_pred_silverman = plom.forward_model(x_test, data_model, qoi_col, h=bw_silverman)\n",
    "error_silverman = np.round(np.abs(y_pred_silverman-y_true)/np.abs(y_true)*100, 3)\n",
    "y_pred_opt = plom.forward_model(x_test, data_model, qoi_col, h=bw_opt)\n",
    "error_opt = np.round(np.abs(y_pred_opt-y_true)/np.abs(y_true)*100, 3)\n",
    "mse_pred_opt = plom.mse(y_pred_opt, y_true)"
   ]
  },
  {
   "cell_type": "code",
   "execution_count": null,
   "metadata": {},
   "outputs": [],
   "source": [
    "for test_case in range(N_test):\n",
    "    print(f\"y_true             = {y_true[test_case]}\")\n",
    "    print(f\"y_pred (optimal)   = {y_pred_opt[test_case]} ({error_opt[test_case]}%)\")\n",
    "    print(f\"y_pred (silverman) = {y_pred_silverman[test_case]} ({error_silverman[test_case]}%)\\n\")\n",
    "\n",
    "print(f\"\\nPrediction MSE (optimal) = {mse_pred_opt}\")"
   ]
  },
  {
   "cell_type": "markdown",
   "metadata": {},
   "source": [
    "## Bandwidth marginal optimization"
   ]
  },
  {
   "cell_type": "code",
   "execution_count": null,
   "metadata": {},
   "outputs": [],
   "source": [
    "np.random.seed()\n",
    "bw_opt_marg, mse_opt_marg = plom.conditioning_marginally_optimal_bw(\n",
    "    data_model, cond_cols, qoi_col, ranking_kfolds=10, opt_kfolds=1, \n",
    "    opt_cycles=10, ga_bounds=(1e-06, 1e6), shuffle=False, split_seed=None, \n",
    "    logscale=True, ga_workers=1, verbose=True)\n",
    "bw_silverman, mse_silverman = plom.conditioning_silverman_bw(data_model, cond_cols, qoi_col)"
   ]
  },
  {
   "cell_type": "code",
   "execution_count": null,
   "metadata": {},
   "outputs": [],
   "source": [
    "print(f\"Optimal bandwidth: {bw_opt_marg}\")\n",
    "print(f\"Optimal MSE: {mse_opt_marg}\\n\")\n",
    "print(f\"Silverman bandwidth: {bw_silverman}\")\n",
    "print(f\"Silverman MSE: {mse_silverman}\\n\")"
   ]
  },
  {
   "cell_type": "code",
   "execution_count": null,
   "metadata": {},
   "outputs": [],
   "source": [
    "x_test = data_test[:, cond_cols]\n",
    "y_true = data_test[:, qoi_col]\n",
    "y_pred_silverman = plom.forward_model(x_test, data_model, qoi_col, h=bw_silverman)\n",
    "error_silverman = np.round(np.abs(y_pred_silverman-y_true)/np.abs(y_true)*100, 3)\n",
    "y_pred_opt_marg = plom.forward_model(x_test, data_model, qoi_col, h=bw_opt_marg)\n",
    "error_opt_marg = np.round(np.abs(y_pred_opt_marg-y_true)/np.abs(y_true)*100, 3)\n",
    "mse_pred_opt_marg = plom.mse(y_pred_opt_marg, y_true)"
   ]
  },
  {
   "cell_type": "code",
   "execution_count": null,
   "metadata": {},
   "outputs": [],
   "source": [
    "for test_case in range(N_test):\n",
    "    print(f\"y_true             = {y_true[test_case]}\")\n",
    "    print(f\"y_pred (optimal)   = {y_pred_opt_marg[test_case]} ({error_opt_marg[test_case]})%\")\n",
    "    print(f\"y_pred (silverman) = {y_pred_silverman[test_case]} ({error_silverman[test_case]})%\\n\")\n",
    "print(f\"\\nPrediction MSE (optimal) = {mse_pred_opt_marg}\")"
   ]
  },
  {
   "cell_type": "code",
   "execution_count": null,
   "metadata": {},
   "outputs": [],
   "source": []
  }
 ],
 "metadata": {
  "kernelspec": {
   "display_name": "base",
   "language": "python",
   "name": "python3"
  },
  "language_info": {
   "codemirror_mode": {
    "name": "ipython",
    "version": 3
   },
   "file_extension": ".py",
   "mimetype": "text/x-python",
   "name": "python",
   "nbconvert_exporter": "python",
   "pygments_lexer": "ipython3",
   "version": "3.11.5"
  }
 },
 "nbformat": 4,
 "nbformat_minor": 2
}
